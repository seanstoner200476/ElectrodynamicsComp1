{
 "cells": [
  {
   "cell_type": "code",
   "execution_count": 19,
   "id": "72941324",
   "metadata": {},
   "outputs": [],
   "source": [
    "import math\n",
    "import random\n",
    "import numpy as np\n",
    "from numpy import linalg as LNG \n",
    "import matplotlib.pyplot as plt\n",
    "\n",
    "\n",
    "def GeneratePoints(numPoints, numCharges, qPoints, Cr, Cx, Cy, Q, pPoints):\n",
    "    \"\"\"\n",
    "    INPUTS:\n",
    "        numPoints:      This is the number of points to creat in the simulation\n",
    "        qPoints:        Array of all the points\n",
    "        Cr:             Radious of the circle\n",
    "        Cx:             X position of the circle's origin\n",
    "        Cy:             Y position of the circle's origin\n",
    "\n",
    "    RETURNS:\n",
    "        qPoints:        Array of point locations\n",
    "\n",
    "    COMMENTS:\n",
    "        This function generates numPoints of charges around the area of a circle and adds\n",
    "        them to a numpy array and returns that array\n",
    "\n",
    "    \"\"\"\n",
    "    #Break up the total charge between charge points\n",
    "    q = Q/numPoints                                 #Divided up the total charge between points\n",
    "    Px = 0                                          #X coordinate used for calculateions\n",
    "    Py = 0                                          #y coordinate used for calculateions\n",
    "    for i in range(numCharges):\n",
    "        theta = 2 * math.pi * random.random()       #generate a random angle \n",
    "        chargeX = Cr * math.cos(theta) + Cx         #set points x coordinate\n",
    "        chargeY = Cr * math.sin(theta) + Cy         #set points y coordinate\n",
    "        #set values for the point x and y position and the charge q\n",
    "        qPoints[i,0] = chargeX                       \n",
    "        qPoints[i,1] = chargeY\n",
    "        qPoints[i,2] = q                        #this is a place holder for charge\n",
    "    #This was used to generate random points for calculate the magnetic field.  it is commented out and set poins will be generated\n",
    "    #for j in range(numPoints):\n",
    "        #theta = 2 * math.pi * random.random()               #generate a random angle\n",
    "        #rad = Cr * math.sqrt(random.random() * 10)          #generate a random radious length\n",
    "        #Px = rad * math.cos(theta) + Cx                     #generate point's x coordinate\n",
    "        #Py = rad * math.sin(theta) + Cy                     #generate point's y coordinate\n",
    "        #set the values for x and y position of the test points\n",
    "        #pPoints[j,0] = Px                       \n",
    "        #pPoints[j,1] = Py\n",
    "    pPoints[0,0], pPoints[0,1] = 3,3\n",
    "    pPoints[1,0], pPoints[1,1] = 2,4\n",
    "    pPoints[2,0], pPoints[2,1] = 5,5\n",
    "    pPoints[3,0], pPoints[3,1] = 3,5\n",
    "    \n",
    "    \n",
    "    return qPoints, pPoints \n",
    "\n",
    " \n",
    "def FieldCalc(numCharges, numPoints, qPoints, pPoints):\n",
    "    \"\"\"\n",
    "    INPUTS:\n",
    "        qPoints:        Array of all the points\n",
    "        Px, Py:         x and y coordinates for the position where the field will be calculated\n",
    "\n",
    "    RETURNS:\n",
    "        eField          Array of field strength values\n",
    "\n",
    "    COMMENTS:\n",
    "        This function generates numPoints of charges around the area of a circle and adds\n",
    "        them to a numpy array and returns that array\n",
    "for j in range(numPoints):\n",
    "        \n",
    "    \"\"\"\n",
    "    \n",
    "    #Constants  \n",
    "    K = 9e9                          #Coulomb constant \n",
    "    eFieldX = 0                      #Total electric field x  \n",
    "    eFieldY = 0                      #Total electric field y\n",
    "    E = np.zeros((numPoints,3))  #NumPy array for storing the electric field from each charge\n",
    "   \n",
    "    for i in range(numPoints):\n",
    "        for j in range(numCharges):\n",
    "            #Solve r vector for each point in the array\n",
    "            rVec = np.array([[pPoints[i,0] - qPoints[j,0]], [pPoints[i,1] - qPoints[j,1]]])  \n",
    "            #print(rVec)\n",
    "            #solve for the magnitued of rVec\n",
    "            rNorm = LNG.norm(rVec)\n",
    "            rMag = rNorm ** 2\n",
    "            #print(rNorm, \" norm\")\n",
    "            #solve for rHat\n",
    "            rHat = np.divide(rVec, rNorm)\n",
    "            #print(rHat,)\n",
    "            #Calculate the field from the current charge at current point p\n",
    "            eField = (K*qPoints[j,2]*rHat)/rMag\n",
    "            #store eField values in an array to be returned\n",
    "            E[i,0] += eField[0]\n",
    "            E[i,1] += eField[1]\n",
    "        E[i,2] = math.sqrt(E[i,0] ** 2 + E[i,1] ** 2)\n",
    "    \n",
    "    return E\n",
    "# End of FieldCalc function\n"
   ]
  },
  {
   "cell_type": "code",
   "execution_count": 20,
   "id": "4db3447a",
   "metadata": {},
   "outputs": [
    {
     "name": "stdout",
     "output_type": "stream",
     "text": [
      "<  38183.76618407355 , 38183.76618407355 > N/C with a magnatude of 53999.999999999985  N/C\n"
     ]
    }
   ],
   "source": [
    "\"\"\"\n",
    "    This cell sets up the inputs and calls the function FieldCalc to compare the the values to the \n",
    "    calculated values in the following cell for proof of solution\n",
    "\"\"\"\n",
    "\n",
    "#User input varables\n",
    "numCharges = 100         #Number of charge point to generate\n",
    "numPoints = 1           #Number of points to generate to calculate the field at\n",
    "Q = 12e-6                #Total Charge\n",
    "Cx = 0                   #Circle center x coordinate\n",
    "Cy = 0                   #Circle center y coordinate\n",
    "Cr = 1                   #Circle radius\n",
    "qPoints = np.zeros((numCharges,3))  #Create a numpy array to hold the charge points \n",
    "pPoints = np.zeros((numPoints,2))   #Create a numpy array to hold the test points\n",
    "\n",
    "#Set up a single charge at [0,0] = x [0,1] = y, [0,2] = the charge\n",
    "qPoints[0,0], qPoints[0,1],qPoints[0,2] = 0.00,0.00,Q\n",
    "pPoints[0,0], pPoints[0,1] = 1.00,1.00\n",
    "#call the FieldCalc function\n",
    "E = FieldCalc(numCharges, numPoints, qPoints, pPoints)  #Call the function to calculate the E field point P\n",
    "#print the values\n",
    "for i in range(numPoints):\n",
    "    print(\"< \", E[i,0], \",\" ,E[i,1], \"> N/C with a magnatude of\", E[i,2], \" N/C\")\n",
    "\n"
   ]
  },
  {
   "cell_type": "markdown",
   "id": "b1e71c60",
   "metadata": {},
   "source": [
    "### Verification of the EfieldClac algorithm \n",
    "The above set up has a charge of 12$\\mu$C at a x and y position of (0,0) in meters.  The point where the \n",
    "field will be calculated at has a x and y position of (1,1) in meters.  We calculate the magnitude of the \n",
    "electric field as follows $|E|=K\\frac{Q_1}{r_1^2}$.  \n",
    "Q is 12$\\mu$C. r is $\\sqrt{2}m$.\n",
    "K is Coulomb's constant which is $9x10^9 \\frac{Nm^2}{C}$\n",
    "r is the $ \\sqrt{2} $ Since the points are 1 meter apart in the X direction and 1 meter in the Y direction \n",
    "$r=\\sqrt{x^2 + y^2}$<br>\n",
    "Plugging in the values we get $\\frac{(9x10^9)(12x10^-6)}{\\sqrt{2^2}}  \\approx 54000 \\frac{N}{C} = E $<br>\n",
    "We can not get the X and Y components of E as follows<br>\n",
    "$ E_x = E * cos\\theta $ with $\\theta$ being the angle between X and the direction of E.  In this example \n",
    "$theta$ is 45$^{\\circ}$<br>\n",
    "Solving the equation yields<br>\n",
    "$E_X = 54000*cos(45^{\\circ}) \\approx 38000 \\frac{N}{C}$ <br>\n",
    "The Y component is like wise given by:<br>\n",
    "$E_Y = 54000*sin(45^{\\circ}) \\approx 38000 \\frac{N}{C}$ <br>\n",
    "As demonstrated here the EfieldCalc algorithm accurately calculate electric fields.\n",
    "\n"
   ]
  },
  {
   "cell_type": "markdown",
   "id": "a32ef5e7",
   "metadata": {},
   "source": [
    "### Next we will show that the electric field vectors add correctly\n",
    "To do this we will run the same code with 2 charges.  The expected result will be the vector addition of both charges"
   ]
  },
  {
   "cell_type": "code",
   "execution_count": 21,
   "id": "60181b74",
   "metadata": {},
   "outputs": [
    {
     "name": "stdout",
     "output_type": "stream",
     "text": [
      "<  108000.0 , 108000.0 > N/C with a magnatude of 152735.06473629427  N/C\n",
      "<  -108000.0 , -108000.0 > N/C with a magnatude of 152735.06473629427  N/C\n",
      "<  -108000.0 , -108000.0 > N/C with a magnatude of 152735.06473629427  N/C\n",
      "<  -108000.0 , -108000.0 > N/C with a magnatude of 152735.06473629427  N/C\n"
     ]
    }
   ],
   "source": [
    "#User input varables\n",
    "numCharges = 2          #Number of charge point to generate\n",
    "numPoints = 4           #Number of points to generate to calculate the field at *****(MUST MATCH # OF POINTS in pPoints function)****\n",
    "Q1 = 12e-6              #Charge 1\n",
    "Q2 = 12e-6               #Charge 2\n",
    "Cx = 0                   #Circle center x coordinate\n",
    "Cy = 0                   #Circle center y coordinate\n",
    "Cr = 1                   #Circle radius\n",
    "qPoints = np.zeros((numCharges,3))  #Create a numpy array to hold the charge points \n",
    "pPoints = np.zeros((numPoints,2))   #Create a numpy array to hold the test points\n",
    "\n",
    "#Set up a single charge at [0,0] = x [0,1] = y, [0,2] = the charge\n",
    "qPoints[0,0], qPoints[0,1],qPoints[0,2] = 1.00,0.00,Q1\n",
    "qPoints[1,0], qPoints[1,1],qPoints[1,2] = 0.00,1.00,Q2\n",
    "pPoints[0,0], pPoints[0,1] = 1.00,1.00\n",
    "#call the FieldCalc function\n",
    "E = FieldCalc(numCharges, numPoints, qPoints, pPoints)  #Call the function to calculate the E field point P\n",
    "#print the values\n",
    "for i in range(numPoints):\n",
    "    print(\"< \", E[i,0], \",\" ,E[i,1], \"> N/C with a magnatude of\", E[i,2], \" N/C\")\n",
    "    "
   ]
  },
  {
   "cell_type": "markdown",
   "id": "a8c96fe0",
   "metadata": {},
   "source": [
    "### Testing the charge placement \n",
    "In the following cell we will plot a large number of charges to show that they are on a circle with radius Cr centered at (0,0)"
   ]
  },
  {
   "cell_type": "code",
   "execution_count": 22,
   "id": "c2210c02",
   "metadata": {},
   "outputs": [
    {
     "data": {
      "image/png": "[encoded data removed]",
      "text/plain": [
       "<Figure size 432x288 with 1 Axes>"
      ]
     },
     "metadata": {
      "needs_background": "light"
     },
     "output_type": "display_data"
    }
   ],
   "source": [
    "#User input varables\n",
    "\n",
    "numCharges = 1000        #Number of charge point to generate\n",
    "numPoints = 4            #Number of points to generate to calculate the field at *****(MUST MATCH # OF POINTS in pPoints function)****\n",
    "Q = 12e-6                #Total Charge\n",
    "Cx = 0                   #Circle center x coordinate\n",
    "Cy = 0                   #Circle center y coordinate\n",
    "Cr = 1                   #Circle radius\n",
    "eFieldX = 0              #Total electric field x  \n",
    "eFieldY = 0              #Total electric field y\n",
    "eMag = 0                 #Total magnatue of the electric field\n",
    "qPoints = np.zeros((numCharges,3))  #Create a numpy array to hold the charge points \n",
    "pPoints = np.zeros((numPoints,2))   #Create a numpy array to hold the test points\n",
    "xChargePoints = np.zeros(([numCharges,1]))\n",
    "yChargePoints = np.zeros(([numCharges,1]))\n",
    "Ex = np.zeros(([numPoints,1]))\n",
    "Ey = np.zeros(([numPoints,1]))\n",
    "Px = np.zeros(([numPoints,1]))\n",
    "Py = np.zeros(([numPoints,1]))\n",
    "\n",
    "#generate points and calculate the field  \n",
    "qPoints, pPoints = GeneratePoints(numPoints,numCharges,qPoints,1,Cx,Cy,Q, pPoints)     #Call the function to generate point charges\n",
    "\n",
    "E = FieldCalc(numCharges, numPoints, qPoints, pPoints)  #Call the function to calculate the E field point P\n",
    "for g in range(numCharges):\n",
    "    #break up x and y point into seperate arrays\n",
    "    xChargePoints[g] = qPoints[g,0]\n",
    "    yChargePoints[g] = qPoints[g,1]\n",
    "for k in range(numPoints):\n",
    "    #Seperate the electric field into x and y componants\n",
    "    Ex[k] = E[k,0]\n",
    "    Ey[k] = E[k,1]\n",
    "    Px[k] = pPoints[k,0]\n",
    "    Py[k] = pPoints[k,1]\n",
    "fig = plt.figure()\n",
    "\n",
    "plt.plot(xChargePoints, yChargePoints, 'o')\n",
    "plt.plot(Px, Py,'x')\n",
    "plt.show()\n",
    "    \n",
    "    "
   ]
  },
  {
   "cell_type": "code",
   "execution_count": null,
   "id": "6cd4884e",
   "metadata": {},
   "outputs": [],
   "source": []
  }
 ],
 "metadata": {
  "kernelspec": {
   "display_name": "Python 3",
   "language": "python",
   "name": "python3"
  },
  "language_info": {
   "codemirror_mode": {
    "name": "ipython",
    "version": 3
   },
   "file_extension": ".py",
   "mimetype": "text/x-python",
   "name": "python",
   "nbconvert_exporter": "python",
   "pygments_lexer": "ipython3",
   "version": "3.8.8"
  }
 },
 "nbformat": 4,
 "nbformat_minor": 5
}
